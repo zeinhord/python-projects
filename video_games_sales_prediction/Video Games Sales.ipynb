{
 "cells": [
  {
   "cell_type": "markdown",
   "id": "efc5c354-4894-4119-b543-8a9159a29808",
   "metadata": {},
   "source": [
    "# Project Overview: Video Games Sales Prediction Model"
   ]
  },
  {
   "cell_type": "markdown",
   "id": "97d4235f-35bd-489f-9bb4-2543bd07a65a",
   "metadata": {},
   "source": [
    "## Dataset and Data preprocessing"
   ]
  },
  {
   "cell_type": "code",
   "execution_count": 50,
   "id": "9289b4f2-cf14-4b02-a816-ce3b52d5ab09",
   "metadata": {},
   "outputs": [
    {
     "data": {
      "text/html": [
       "<div>\n",
       "<style scoped>\n",
       "    .dataframe tbody tr th:only-of-type {\n",
       "        vertical-align: middle;\n",
       "    }\n",
       "\n",
       "    .dataframe tbody tr th {\n",
       "        vertical-align: top;\n",
       "    }\n",
       "\n",
       "    .dataframe thead th {\n",
       "        text-align: right;\n",
       "    }\n",
       "</style>\n",
       "<table border=\"1\" class=\"dataframe\">\n",
       "  <thead>\n",
       "    <tr style=\"text-align: right;\">\n",
       "      <th></th>\n",
       "      <th>Rank</th>\n",
       "      <th>Name</th>\n",
       "      <th>Platform</th>\n",
       "      <th>Year</th>\n",
       "      <th>Genre</th>\n",
       "      <th>Publisher</th>\n",
       "      <th>NA_Sales</th>\n",
       "      <th>EU_Sales</th>\n",
       "      <th>JP_Sales</th>\n",
       "      <th>Other_Sales</th>\n",
       "      <th>Global_Sales</th>\n",
       "    </tr>\n",
       "  </thead>\n",
       "  <tbody>\n",
       "    <tr>\n",
       "      <th>0</th>\n",
       "      <td>1</td>\n",
       "      <td>Wii Sports</td>\n",
       "      <td>Wii</td>\n",
       "      <td>2006.0</td>\n",
       "      <td>Sports</td>\n",
       "      <td>Nintendo</td>\n",
       "      <td>41.49</td>\n",
       "      <td>29.02</td>\n",
       "      <td>3.77</td>\n",
       "      <td>8.46</td>\n",
       "      <td>82.74</td>\n",
       "    </tr>\n",
       "    <tr>\n",
       "      <th>1</th>\n",
       "      <td>2</td>\n",
       "      <td>Super Mario Bros.</td>\n",
       "      <td>NES</td>\n",
       "      <td>1985.0</td>\n",
       "      <td>Platform</td>\n",
       "      <td>Nintendo</td>\n",
       "      <td>29.08</td>\n",
       "      <td>3.58</td>\n",
       "      <td>6.81</td>\n",
       "      <td>0.77</td>\n",
       "      <td>40.24</td>\n",
       "    </tr>\n",
       "    <tr>\n",
       "      <th>2</th>\n",
       "      <td>3</td>\n",
       "      <td>Mario Kart Wii</td>\n",
       "      <td>Wii</td>\n",
       "      <td>2008.0</td>\n",
       "      <td>Racing</td>\n",
       "      <td>Nintendo</td>\n",
       "      <td>15.85</td>\n",
       "      <td>12.88</td>\n",
       "      <td>3.79</td>\n",
       "      <td>3.31</td>\n",
       "      <td>35.82</td>\n",
       "    </tr>\n",
       "    <tr>\n",
       "      <th>3</th>\n",
       "      <td>4</td>\n",
       "      <td>Wii Sports Resort</td>\n",
       "      <td>Wii</td>\n",
       "      <td>2009.0</td>\n",
       "      <td>Sports</td>\n",
       "      <td>Nintendo</td>\n",
       "      <td>15.75</td>\n",
       "      <td>11.01</td>\n",
       "      <td>3.28</td>\n",
       "      <td>2.96</td>\n",
       "      <td>33.00</td>\n",
       "    </tr>\n",
       "    <tr>\n",
       "      <th>4</th>\n",
       "      <td>5</td>\n",
       "      <td>Pokemon Red/Pokemon Blue</td>\n",
       "      <td>GB</td>\n",
       "      <td>1996.0</td>\n",
       "      <td>Role-Playing</td>\n",
       "      <td>Nintendo</td>\n",
       "      <td>11.27</td>\n",
       "      <td>8.89</td>\n",
       "      <td>10.22</td>\n",
       "      <td>1.00</td>\n",
       "      <td>31.37</td>\n",
       "    </tr>\n",
       "  </tbody>\n",
       "</table>\n",
       "</div>"
      ],
      "text/plain": [
       "   Rank                      Name Platform    Year         Genre Publisher  \\\n",
       "0     1                Wii Sports      Wii  2006.0        Sports  Nintendo   \n",
       "1     2         Super Mario Bros.      NES  1985.0      Platform  Nintendo   \n",
       "2     3            Mario Kart Wii      Wii  2008.0        Racing  Nintendo   \n",
       "3     4         Wii Sports Resort      Wii  2009.0        Sports  Nintendo   \n",
       "4     5  Pokemon Red/Pokemon Blue       GB  1996.0  Role-Playing  Nintendo   \n",
       "\n",
       "   NA_Sales  EU_Sales  JP_Sales  Other_Sales  Global_Sales  \n",
       "0     41.49     29.02      3.77         8.46         82.74  \n",
       "1     29.08      3.58      6.81         0.77         40.24  \n",
       "2     15.85     12.88      3.79         3.31         35.82  \n",
       "3     15.75     11.01      3.28         2.96         33.00  \n",
       "4     11.27      8.89     10.22         1.00         31.37  "
      ]
     },
     "execution_count": 50,
     "metadata": {},
     "output_type": "execute_result"
    }
   ],
   "source": [
    "# loading the dataset\n",
    "data = pd.read_csv('vgsales.csv')\n",
    "data.head()"
   ]
  },
  {
   "cell_type": "code",
   "execution_count": null,
   "id": "dd6fda19-4030-4820-a7f0-b585c6dfdd2b",
   "metadata": {},
   "outputs": [],
   "source": [
    "# Data Preprocessing\n",
    "\n",
    "## checking for missing values - print(data.isnull().sum())\n",
    "\n",
    "# removing missing values\n",
    "data = data.dropna()\n",
    "\n",
    "# Drop irrelevant columns like 'Rank' and 'Name'\n",
    "data.drop(columns=['Rank', 'Name'], inplace=True)\n",
    "\n",
    "# Encode categorical variables using one-hot encoding\n",
    "data = pd.get_dummies(data)\n",
    "\n",
    "# Split features and target variable\n",
    "X = data.drop(columns=['Global_Sales'])\n",
    "y = data['Global_Sales']"
   ]
  },
  {
   "cell_type": "markdown",
   "id": "fdc37bc8-657e-4ca2-a444-bcd332bd3865",
   "metadata": {},
   "source": [
    "## Base Model Results\n",
    "\n",
    "High MSE: 0.736\n",
    "\n",
    "Base model:\n",
    "- Bias (Train): 2.00066302603858\n",
    "- Bias (Test): 4.278392896236355\n",
    "- Variance (Train): 1.928286061425289\n",
    "- Variance (Test): 2.4975493926254217\n",
    "\n",
    "Used imrpovement methods:\n",
    "- Train/Test data\n",
    "- Hyperparameter tuning\n",
    "- Neural network model"
   ]
  },
  {
   "cell_type": "markdown",
   "id": "22dee6fd-b2ba-49bf-b8b4-181dbd5622c0",
   "metadata": {},
   "source": [
    "## Model Imrovement Results"
   ]
  },
  {
   "cell_type": "code",
   "execution_count": 70,
   "id": "f374a65f-e536-40ff-a849-4f00c47438f0",
   "metadata": {},
   "outputs": [
    {
     "data": {
      "image/png": "[encoded data removed]",
      "text/plain": [
       "<Figure size 640x480 with 1 Axes>"
      ]
     },
     "metadata": {},
     "output_type": "display_data"
    }
   ],
   "source": [
    "# Define the data and labels\n",
    "mse_values = [mse_base, mse_split, mse_tune, mse_neural]\n",
    "labels = ['Base', 'Split', 'Hyperparameter', 'Neural Network']\n",
    "colors = ['skyblue', 'royalblue', 'darkorchid', 'crimson']\n",
    "\n",
    "# Plot the bar chart\n",
    "bars = plt.bar(labels, mse_values, color=colors)\n",
    "\n",
    "# Add labels and title\n",
    "plt.xlabel('Models')\n",
    "plt.ylabel('Mean Squared Error')\n",
    "plt.title('Comparison of Mean Squared Error Across Models')\n",
    "\n",
    "# Add legend with exact MSE values\n",
    "for bar, mse in zip(bars, mse_values):\n",
    "    plt.text(bar.get_x() + bar.get_width() / 2, bar.get_height(), f'{mse:.4f}', \n",
    "             ha='center', va='bottom')\n",
    "\n",
    "# Show the plot\n",
    "plt.show()"
   ]
  },
  {
   "cell_type": "markdown",
   "id": "948ae224-9914-477d-8781-e5d0acec9a1b",
   "metadata": {},
   "source": [
    "## References:\n",
    "\n",
    "Paper Publication: Li, Y. Zheng, H. Hu, J. Lu and C. Zhan, \"Predicting Video Game Sales Based on Machine Learning and Hybrid Feature Selection Method,\" 2021 16th International Conference on Intelligent Systems and Knowledge Engineering (ISKE), Chengdu, China, 2021, pp. 497-502, doi: 10.1109/ISKE54062.2021.9755343. URL: https://ieeexplore.ieee.org/document/9755343\n",
    "\n",
    "Dataset \"Video game sales\"  sourced from Kaggle. URL: https://www.kaggle.com/datasets/unclesamoluwasegun/video-game-sales"
   ]
  },
  {
   "cell_type": "markdown",
   "id": "eef37dc4-d436-489f-9a79-2ee235721dca",
   "metadata": {},
   "source": [
    "# Main Part"
   ]
  },
  {
   "cell_type": "markdown",
   "id": "89a20706-740d-4fa2-84f0-21bb3b47ea62",
   "metadata": {},
   "source": [
    "## Base model"
   ]
  },
  {
   "cell_type": "code",
   "execution_count": 18,
   "id": "d8501176-cf24-468f-8f54-8f39f654a86e",
   "metadata": {},
   "outputs": [
    {
     "data": {
      "text/html": [
       "<div>\n",
       "<style scoped>\n",
       "    .dataframe tbody tr th:only-of-type {\n",
       "        vertical-align: middle;\n",
       "    }\n",
       "\n",
       "    .dataframe tbody tr th {\n",
       "        vertical-align: top;\n",
       "    }\n",
       "\n",
       "    .dataframe thead th {\n",
       "        text-align: right;\n",
       "    }\n",
       "</style>\n",
       "<table border=\"1\" class=\"dataframe\">\n",
       "  <thead>\n",
       "    <tr style=\"text-align: right;\">\n",
       "      <th></th>\n",
       "      <th>Rank</th>\n",
       "      <th>Name</th>\n",
       "      <th>Platform</th>\n",
       "      <th>Year</th>\n",
       "      <th>Genre</th>\n",
       "      <th>Publisher</th>\n",
       "      <th>NA_Sales</th>\n",
       "      <th>EU_Sales</th>\n",
       "      <th>JP_Sales</th>\n",
       "      <th>Other_Sales</th>\n",
       "      <th>Global_Sales</th>\n",
       "    </tr>\n",
       "  </thead>\n",
       "  <tbody>\n",
       "    <tr>\n",
       "      <th>0</th>\n",
       "      <td>1</td>\n",
       "      <td>Wii Sports</td>\n",
       "      <td>Wii</td>\n",
       "      <td>2006.0</td>\n",
       "      <td>Sports</td>\n",
       "      <td>Nintendo</td>\n",
       "      <td>41.49</td>\n",
       "      <td>29.02</td>\n",
       "      <td>3.77</td>\n",
       "      <td>8.46</td>\n",
       "      <td>82.74</td>\n",
       "    </tr>\n",
       "    <tr>\n",
       "      <th>1</th>\n",
       "      <td>2</td>\n",
       "      <td>Super Mario Bros.</td>\n",
       "      <td>NES</td>\n",
       "      <td>1985.0</td>\n",
       "      <td>Platform</td>\n",
       "      <td>Nintendo</td>\n",
       "      <td>29.08</td>\n",
       "      <td>3.58</td>\n",
       "      <td>6.81</td>\n",
       "      <td>0.77</td>\n",
       "      <td>40.24</td>\n",
       "    </tr>\n",
       "    <tr>\n",
       "      <th>2</th>\n",
       "      <td>3</td>\n",
       "      <td>Mario Kart Wii</td>\n",
       "      <td>Wii</td>\n",
       "      <td>2008.0</td>\n",
       "      <td>Racing</td>\n",
       "      <td>Nintendo</td>\n",
       "      <td>15.85</td>\n",
       "      <td>12.88</td>\n",
       "      <td>3.79</td>\n",
       "      <td>3.31</td>\n",
       "      <td>35.82</td>\n",
       "    </tr>\n",
       "    <tr>\n",
       "      <th>3</th>\n",
       "      <td>4</td>\n",
       "      <td>Wii Sports Resort</td>\n",
       "      <td>Wii</td>\n",
       "      <td>2009.0</td>\n",
       "      <td>Sports</td>\n",
       "      <td>Nintendo</td>\n",
       "      <td>15.75</td>\n",
       "      <td>11.01</td>\n",
       "      <td>3.28</td>\n",
       "      <td>2.96</td>\n",
       "      <td>33.00</td>\n",
       "    </tr>\n",
       "    <tr>\n",
       "      <th>4</th>\n",
       "      <td>5</td>\n",
       "      <td>Pokemon Red/Pokemon Blue</td>\n",
       "      <td>GB</td>\n",
       "      <td>1996.0</td>\n",
       "      <td>Role-Playing</td>\n",
       "      <td>Nintendo</td>\n",
       "      <td>11.27</td>\n",
       "      <td>8.89</td>\n",
       "      <td>10.22</td>\n",
       "      <td>1.00</td>\n",
       "      <td>31.37</td>\n",
       "    </tr>\n",
       "  </tbody>\n",
       "</table>\n",
       "</div>"
      ],
      "text/plain": [
       "   Rank                      Name Platform    Year         Genre Publisher  \\\n",
       "0     1                Wii Sports      Wii  2006.0        Sports  Nintendo   \n",
       "1     2         Super Mario Bros.      NES  1985.0      Platform  Nintendo   \n",
       "2     3            Mario Kart Wii      Wii  2008.0        Racing  Nintendo   \n",
       "3     4         Wii Sports Resort      Wii  2009.0        Sports  Nintendo   \n",
       "4     5  Pokemon Red/Pokemon Blue       GB  1996.0  Role-Playing  Nintendo   \n",
       "\n",
       "   NA_Sales  EU_Sales  JP_Sales  Other_Sales  Global_Sales  \n",
       "0     41.49     29.02      3.77         8.46         82.74  \n",
       "1     29.08      3.58      6.81         0.77         40.24  \n",
       "2     15.85     12.88      3.79         3.31         35.82  \n",
       "3     15.75     11.01      3.28         2.96         33.00  \n",
       "4     11.27      8.89     10.22         1.00         31.37  "
      ]
     },
     "execution_count": 18,
     "metadata": {},
     "output_type": "execute_result"
    }
   ],
   "source": [
    "# loading packages\n",
    "import pandas as pd\n",
    "import seaborn as sns\n",
    "import matplotlib.pyplot as plt\n",
    "import numpy as np\n",
    "import tensorflow as tf\n",
    "from sklearn.model_selection import train_test_split\n",
    "from sklearn.ensemble import RandomForestRegressor\n",
    "from sklearn.metrics import mean_squared_error\n",
    "from sklearn.feature_selection import SelectFromModel\n",
    "from sklearn.preprocessing import StandardScaler\n",
    "from sklearn.model_selection import GridSearchCV\n",
    "from scipy.stats import pearsonr\n",
    "from tensorflow.keras.models import Sequential\n",
    "from tensorflow.keras.layers import Dense, Dropout\n",
    "from tensorflow.keras.callbacks import EarlyStopping\n",
    "\n",
    "# loading the dataset\n",
    "data = pd.read_csv('vgsales.csv')\n",
    "data.head()"
   ]
  },
  {
   "cell_type": "code",
   "execution_count": 5,
   "id": "ef9271a2-3122-4206-9b3c-662b32c062aa",
   "metadata": {},
   "outputs": [
    {
     "name": "stdout",
     "output_type": "stream",
     "text": [
      "Rank              0\n",
      "Name              0\n",
      "Platform          0\n",
      "Year            271\n",
      "Genre             0\n",
      "Publisher        58\n",
      "NA_Sales          0\n",
      "EU_Sales          0\n",
      "JP_Sales          0\n",
      "Other_Sales       0\n",
      "Global_Sales      0\n",
      "dtype: int64\n"
     ]
    }
   ],
   "source": [
    "# checking for missing values\n",
    "print(data.isnull().sum())"
   ]
  },
  {
   "cell_type": "code",
   "execution_count": 6,
   "id": "c48e872a-e635-44da-9032-68aa0444f75e",
   "metadata": {},
   "outputs": [],
   "source": [
    "# removing missing values\n",
    "data = data.dropna()\n",
    "\n",
    "# Drop irrelevant columns like 'Rank' and 'Name'\n",
    "data.drop(columns=['Rank', 'Name'], inplace=True)\n",
    "\n",
    "# Encode categorical variables using one-hot encoding\n",
    "data = pd.get_dummies(data)\n",
    "\n",
    "# Split features and target variable\n",
    "X = data.drop(columns=['Global_Sales'])\n",
    "y = data['Global_Sales']"
   ]
  },
  {
   "cell_type": "code",
   "execution_count": 9,
   "id": "06200766-2346-49ba-99d9-7109df9265b4",
   "metadata": {},
   "outputs": [],
   "source": [
    "# Feature selection using Pearson Correlation Coefficient\n",
    "correlation_coefficients = [pearsonr(X[col], y)[0] for col in X.columns]\n",
    "correlation_df = pd.DataFrame({'Feature': X.columns, 'Correlation': correlation_coefficients})\n",
    "selected_features = correlation_df[correlation_df['Correlation'].abs() > 0.1]['Feature'].tolist()\n",
    "\n",
    "# Further feature selection using Random Forest\n",
    "rf = RandomForestRegressor(n_estimators=100)\n",
    "rf.fit(X, y)\n",
    "feature_importances = pd.Series(rf.feature_importances_, index=X.columns)\n",
    "selected_features_rf = feature_importances[feature_importances > 0.01].index.tolist()\n",
    "\n",
    "# Combining selected features from both methods\n",
    "selected_features_combined = list(set(selected_features) | set(selected_features_rf))\n",
    "\n",
    "# Spliting the data\n",
    "X_selected = X[selected_features_combined]\n",
    "X_train, X_test, y_train, y_test = train_test_split(X_selected, y, test_size=0.2, random_state=42)"
   ]
  },
  {
   "cell_type": "code",
   "execution_count": 10,
   "id": "1387a9f3-d78a-491d-8022-4f72f02b942b",
   "metadata": {},
   "outputs": [],
   "source": [
    "# Training\n",
    "model = RandomForestRegressor(n_estimators=100)\n",
    "model.fit(X_train, y_train)"
   ]
  },
  {
   "cell_type": "code",
   "execution_count": 16,
   "id": "fc90f07b-9a35-419e-99bd-7ac7546a53e6",
   "metadata": {},
   "outputs": [
    {
     "name": "stdout",
     "output_type": "stream",
     "text": [
      "Mean Squared Error: 0.7361470000080668\n"
     ]
    }
   ],
   "source": [
    "# Evaluation\n",
    "y_pred = model.predict(X_test)\n",
    "mse_base = mean_squared_error(y_test, y_pred)\n",
    "print(\"Mean Squared Error:\", mse_base)\n",
    "# high MSE value"
   ]
  },
  {
   "cell_type": "markdown",
   "id": "19fa0bdd-eda6-4d0a-b79f-b437cbc82799",
   "metadata": {},
   "source": [
    "## Identifying the problem"
   ]
  },
  {
   "cell_type": "code",
   "execution_count": 17,
   "id": "e5f8e705-19ff-4a80-becd-68790811f504",
   "metadata": {},
   "outputs": [
    {
     "name": "stdout",
     "output_type": "stream",
     "text": [
      "Base Model:\n",
      "Bias (Train): 2.00066302603858\n",
      "Bias (Test): 4.278392896236355\n",
      "Variance (Train): 1.928286061425289\n",
      "Variance (Test): 2.4975493926254217\n"
     ]
    }
   ],
   "source": [
    "# Calculate Bias and Variance\n",
    "def calculate_bias_variance(model, X_train, y_train, X_test, y_test):\n",
    "    y_train_pred = model.predict(X_train)\n",
    "    y_test_pred = model.predict(X_test)\n",
    "\n",
    "    # Bias\n",
    "    bias_train = np.mean((y_train - np.mean(y_train_pred)) ** 2)\n",
    "    bias_test = np.mean((y_test - np.mean(y_test_pred)) ** 2)\n",
    "\n",
    "    # Variance\n",
    "    variance_train = np.mean(np.var(y_train_pred))\n",
    "    variance_test = np.mean(np.var(y_test_pred))\n",
    "\n",
    "    return bias_train, bias_test, variance_train, variance_test\n",
    "\n",
    "# Calculate Bias and Variance of the base model\n",
    "bias_train_base, bias_test_base, variance_train_base, variance_test_base = calculate_bias_variance(model, X_train, y_train, X_test, y_test)\n",
    "\n",
    "print(\"Base Model:\")\n",
    "print(\"Bias (Train):\", bias_train_base)\n",
    "print(\"Bias (Test):\", bias_test_base)\n",
    "print(\"Variance (Train):\", variance_train_base)\n",
    "print(\"Variance (Test):\", variance_test_base)"
   ]
  },
  {
   "cell_type": "markdown",
   "id": "acfad38a-dd3d-411f-a8d3-31a3ec940911",
   "metadata": {},
   "source": [
    "The base model seems to have a relatively low bias on the training set, indicating that it captures the underlying patterns well. However, the higher bias on the testing set and the slightly higher variance on the testing set compared to the training set suggest that the model may benefit from further tuning or regularization to improve its generalization performance."
   ]
  },
  {
   "cell_type": "markdown",
   "id": "210e1f11-82a8-433e-8249-851a35f50185",
   "metadata": {},
   "source": [
    "## Splitting tuning"
   ]
  },
  {
   "cell_type": "code",
   "execution_count": 45,
   "id": "3784e1eb",
   "metadata": {},
   "outputs": [
    {
     "name": "stdout",
     "output_type": "stream",
     "text": [
      "Mean Squared Error: 0.5181615050427274\n"
     ]
    }
   ],
   "source": [
    "# another split\n",
    "X_selected = X[selected_features_combined]\n",
    "X_train, X_test, y_train, y_test = train_test_split(X_selected, y, test_size=0.3, random_state=42)\n",
    "\n",
    "model = RandomForestRegressor(n_estimators=100)\n",
    "model.fit(X_train, y_train)\n",
    "\n",
    "y_pred = model.predict(X_test)\n",
    "mse_split = mean_squared_error(y_test, y_pred)\n",
    "print(\"Mean Squared Error:\", mse_split)\n",
    "# high MSE value"
   ]
  },
  {
   "cell_type": "markdown",
   "id": "a72f20e9-63c3-46f6-b6c7-50e52494886b",
   "metadata": {},
   "source": [
    "As we can see ffrom the new MSE, a simple change in data split from 80/20 to 70/30 has impoved MSE value by aproximately 34%. Further increase in testing set ratio also improved the MSE value with the best value of MSE at 40/60 ratio, while further increases didn't lead to any noticable improvement."
   ]
  },
  {
   "cell_type": "markdown",
   "id": "67512a8f-4aa7-49e9-9101-6b29ed08dae0",
   "metadata": {},
   "source": [
    "## Tuning Hyperparameter value"
   ]
  },
  {
   "cell_type": "code",
   "execution_count": 52,
   "id": "7d73787e-1dca-4da1-8d87-571487479865",
   "metadata": {},
   "outputs": [
    {
     "name": "stdout",
     "output_type": "stream",
     "text": [
      "Fitting 5 folds for each of 81 candidates, totalling 405 fits\n",
      "Best parameters: {'max_depth': None, 'min_samples_leaf': 1, 'min_samples_split': 5, 'n_estimators': 150}\n",
      "Mean Squared Error: 0.536851407035419\n"
     ]
    }
   ],
   "source": [
    "# Feature scaling\n",
    "scaler = StandardScaler()\n",
    "X_train_scaled = scaler.fit_transform(X_train)\n",
    "X_test_scaled = scaler.transform(X_test)\n",
    "\n",
    "# Tune hyperparameters of the Random Forest model\n",
    "param_grid = {\n",
    "    'n_estimators': [50, 100, 150],\n",
    "    'max_depth': [None, 10, 20],\n",
    "    'min_samples_split': [2, 5, 10],\n",
    "    'min_samples_leaf': [1, 2, 4]\n",
    "}\n",
    "\n",
    "rf = RandomForestRegressor()\n",
    "grid_search = GridSearchCV(estimator=rf, param_grid=param_grid, cv=5, n_jobs=-1, verbose=2)\n",
    "grid_search.fit(X_train_scaled, y_train)\n",
    "\n",
    "print(\"Best parameters:\", grid_search.best_params_)\n",
    "\n",
    "# Train the Random Forest model with the best hyperparameters\n",
    "best_rf = RandomForestRegressor(**grid_search.best_params_)\n",
    "best_rf.fit(X_train_scaled, y_train)\n",
    "\n",
    "# Evaluate the model\n",
    "y_pred = best_rf.predict(X_test_scaled)\n",
    "mse_tune = mean_squared_error(y_test, y_pred)\n",
    "print(\"Mean Squared Error:\", mse_tune)"
   ]
  },
  {
   "cell_type": "markdown",
   "id": "3cf150f0-ff19-496b-927e-37aa432b1e1f",
   "metadata": {},
   "source": [
    "As wee can see tuning hyperparameter value also improves the MSE value, but the final imrovement is still no good enough."
   ]
  },
  {
   "cell_type": "markdown",
   "id": "77d6d84c-5d34-429b-bcd1-892b12cf1017",
   "metadata": {},
   "source": [
    "## Neural network model"
   ]
  },
  {
   "cell_type": "code",
   "execution_count": 49,
   "id": "487b8ea3",
   "metadata": {},
   "outputs": [
    {
     "name": "stdout",
     "output_type": "stream",
     "text": [
      "153/153 [==============================] - 0s 3ms/step - loss: 0.0038\n",
      "Mean Squared Error (Neural Network): 0.0037555242888629436\n"
     ]
    }
   ],
   "source": [
    "from tensorflow.keras.models import Sequential\n",
    "from tensorflow.keras.layers import Dense, Dropout\n",
    "from tensorflow.keras.callbacks import EarlyStopping\n",
    "\n",
    "# Build the neural network model\n",
    "model = Sequential([\n",
    "    Dense(128, activation='relu', input_shape=(X_train_scaled.shape[1],)),\n",
    "    Dropout(0.2),\n",
    "    Dense(64, activation='relu'),\n",
    "    Dense(1)\n",
    "])\n",
    "\n",
    "# Compile the model\n",
    "model.compile(optimizer='adam', loss='mean_squared_error')\n",
    "\n",
    "# Train the model with early stopping\n",
    "early_stopping = EarlyStopping(patience=5, restore_best_weights=True)\n",
    "history = model.fit(X_train_scaled, y_train, validation_split=0.2, epochs=50, batch_size=32, callbacks=[early_stopping], verbose=0)\n",
    "\n",
    "# Evaluate the model\n",
    "mse_neural = model.evaluate(X_test_scaled, y_test)\n",
    "print(\"Mean Squared Error (Neural Network):\", mse_neural)"
   ]
  },
  {
   "cell_type": "markdown",
   "id": "7db3b638-d0e0-41ea-aab2-f8fe8b441f19",
   "metadata": {},
   "source": [
    "Applying a neural network model to our models solved all problems with low MSE value and now we have improved model enough to states that it predicts video games sales prices with high accuracy."
   ]
  }
 ],
 "metadata": {
  "kernelspec": {
   "display_name": "Python 3 (ipykernel)",
   "language": "python",
   "name": "python3"
  },
  "language_info": {
   "codemirror_mode": {
    "name": "ipython",
    "version": 3
   },
   "file_extension": ".py",
   "mimetype": "text/x-python",
   "name": "python",
   "nbconvert_exporter": "python",
   "pygments_lexer": "ipython3",
   "version": "3.11.5"
  }
 },
 "nbformat": 4,
 "nbformat_minor": 5
}
